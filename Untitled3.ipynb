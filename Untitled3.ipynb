{
 "cells": [
  {
   "cell_type": "code",
   "execution_count": 2,
   "id": "f8f8dbe0-678e-47e4-b692-fb44ffd66df6",
   "metadata": {},
   "outputs": [
    {
     "name": "stdout",
     "output_type": "stream",
     "text": [
      "range(0, 10)\n"
     ]
    }
   ],
   "source": [
    "a =range(10)\n",
    "print(a)\n"
   ]
  },
  {
   "cell_type": "code",
   "execution_count": 4,
   "id": "649f0479-d953-4a72-9d45-b8caaff39e70",
   "metadata": {},
   "outputs": [
    {
     "name": "stdout",
     "output_type": "stream",
     "text": [
      "[0, 1, 2, 3, 4, 5, 6, 7, 8, 9]\n"
     ]
    }
   ],
   "source": [
    "a =range(10)\n",
    "b =list(a)\n",
    "print(b)"
   ]
  },
  {
   "cell_type": "code",
   "execution_count": 6,
   "id": "a6d8cb79-a84e-4126-a84f-ab1dcefd616a",
   "metadata": {},
   "outputs": [
    {
     "name": "stdout",
     "output_type": "stream",
     "text": [
      "[5, 7, 9, 11, 13]\n"
     ]
    }
   ],
   "source": [
    "my_list = list(range(5,15,2))\n",
    "print(my_list)"
   ]
  },
  {
   "cell_type": "code",
   "execution_count": 2,
   "id": "53fb27fa-0ab3-43ab-859d-0aa3b3e13436",
   "metadata": {},
   "outputs": [
    {
     "name": "stdout",
     "output_type": "stream",
     "text": [
      "12\n"
     ]
    }
   ],
   "source": [
    "def add_number (a,b):\n",
    "    result = a+b\n",
    "    return result\n",
    "\n",
    "result2  = add_number(10,2)\n",
    "print(result2)"
   ]
  },
  {
   "cell_type": "code",
   "execution_count": 8,
   "id": "9c1d25fd-cdb7-4237-995f-3d8433090a2b",
   "metadata": {},
   "outputs": [
    {
     "name": "stdout",
     "output_type": "stream",
     "text": [
      "Sum of 1,2,3,4 : 10\n",
      "Sum of 1,2,3,4,5 : 15\n"
     ]
    }
   ],
   "source": [
    "def calculate_sum(*args):\n",
    "    total =sum(args)\n",
    "    return total\n",
    "print(\"Sum of 1,2,3,4 :\",calculate_sum(1,2,3,4))\n",
    "print(\"Sum of 1,2,3,4,5 :\",calculate_sum(1,2,3,4,5))"
   ]
  },
  {
   "cell_type": "code",
   "execution_count": 10,
   "id": "7ddfeca4-a428-427f-9342-e4d2f991d78c",
   "metadata": {},
   "outputs": [
    {
     "name": "stdout",
     "output_type": "stream",
     "text": [
      "8\n"
     ]
    }
   ],
   "source": [
    "add= lambda x,y : x+y\n",
    "result = add(3,5)\n",
    "print(result)"
   ]
  },
  {
   "cell_type": "code",
   "execution_count": 16,
   "id": "de3ecd6a-5f45-4725-85a8-ac0314e5758e",
   "metadata": {},
   "outputs": [
    {
     "name": "stdout",
     "output_type": "stream",
     "text": [
      "True\n"
     ]
    }
   ],
   "source": [
    "is_palindrome = lambda s: s==s[: :-1]\n",
    "print(is_palindrome(\"radar\"))\n"
   ]
  },
  {
   "cell_type": "code",
   "execution_count": null,
   "id": "1151c424-e4da-4402-ad3f-048e020076d5",
   "metadata": {},
   "outputs": [],
   "source": []
  }
 ],
 "metadata": {
  "kernelspec": {
   "display_name": "Python [conda env:base] *",
   "language": "python",
   "name": "conda-base-py"
  },
  "language_info": {
   "codemirror_mode": {
    "name": "ipython",
    "version": 3
   },
   "file_extension": ".py",
   "mimetype": "text/x-python",
   "name": "python",
   "nbconvert_exporter": "python",
   "pygments_lexer": "ipython3",
   "version": "3.12.7"
  }
 },
 "nbformat": 4,
 "nbformat_minor": 5
}
