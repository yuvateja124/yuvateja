{
  "cells": [
    {
      "cell_type": "markdown",
      "metadata": {
        "id": "view-in-github",
        "colab_type": "text"
      },
      "source": [
        "<a href=\"https://colab.research.google.com/github/yuvateja124/yuvateja/blob/main/Day3.ipynb\" target=\"_parent\"><img src=\"https://colab.research.google.com/assets/colab-badge.svg\" alt=\"Open In Colab\"/></a>"
      ]
    },
    {
      "cell_type": "code",
      "execution_count": 5,
      "metadata": {
        "colab": {
          "base_uri": "https://localhost:8080/"
        },
        "id": "ZGNXlNQwOXX4",
        "outputId": "1283ddff-167d-4b8d-94e7-698d6b796eb2"
      },
      "outputs": [
        {
          "output_type": "stream",
          "name": "stdout",
          "text": [
            "value: 10 type <class 'int'>\n",
            "value: 3.14 type: <class 'float'>\n",
            "value: Helloworld type: <class 'str'>\n",
            "value: True type: <class 'bool'>\n"
          ]
        }
      ],
      "source": [
        "my_integer=10\n",
        "my_float=3.14\n",
        "my_string='Helloworld'\n",
        "my_boolen=True\n",
        "print(\"value:\",my_integer,\"type\", type(my_integer))\n",
        "print(\"value:\",my_float,\"type:\", type(my_float))\n",
        "print(\"value:\",my_string,\"type:\", type(my_string))\n",
        "print(\"value:\",my_boolen, \"type:\", type(my_boolen))"
      ]
    }
  ],
  "metadata": {
    "colab": {
      "provenance": [],
      "authorship_tag": "ABX9TyP6WLzE4Tt66obhLGL0V3ul",
      "include_colab_link": true
    },
    "kernelspec": {
      "display_name": "Python 3",
      "name": "python3"
    },
    "language_info": {
      "name": "python"
    }
  },
  "nbformat": 4,
  "nbformat_minor": 0
}