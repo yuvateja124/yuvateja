{
  "nbformat": 4,
  "nbformat_minor": 0,
  "metadata": {
    "colab": {
      "provenance": [],
      "authorship_tag": "ABX9TyNufkoAnVAjGJu8h3dugdNU",
      "include_colab_link": true
    },
    "kernelspec": {
      "name": "python3",
      "display_name": "Python 3"
    },
    "language_info": {
      "name": "python"
    }
  },
  "cells": [
    {
      "cell_type": "markdown",
      "metadata": {
        "id": "view-in-github",
        "colab_type": "text"
      },
      "source": [
        "<a href=\"https://colab.research.google.com/github/yuvateja124/yuvateja/blob/main/Day3.ipynb\" target=\"_parent\"><img src=\"https://colab.research.google.com/assets/colab-badge.svg\" alt=\"Open In Colab\"/></a>"
      ]
    },
    {
      "cell_type": "code",
      "source": [
        "# Taking input of marks in three subjects\n",
        "marks1 = float(input(\"Enter marks for subject 1: \"))\n",
        "marks2 = float(input(\"Enter marks for subject 2: \"))\n",
        "marks3 = float(input(\"Enter marks for subject 3: \"))\n",
        "\n",
        "# Calculating the average of the three subjects\n",
        "average = (marks1 + marks2 + marks3) / 3\n",
        "\n",
        "# Printing the grade based on the average\n",
        "if average >= 90:\n",
        "    print(\"Grade: A\")\n",
        "elif 80 <= average < 90:\n",
        "    print(\"Grade: B\")\n",
        "elif 70 <= average < 80:\n",
        "    print(\"Grade: C\")\n",
        "else:\n",
        "    print(\"Grade: Fail\")"
      ],
      "metadata": {
        "colab": {
          "base_uri": "https://localhost:8080/"
        },
        "id": "K0JiAsVKMIsq",
        "outputId": "bf3bb4ba-6fbf-434d-fa10-27fc9fc1e11b"
      },
      "execution_count": 7,
      "outputs": [
        {
          "output_type": "stream",
          "name": "stdout",
          "text": [
            "Enter marks for subject 1: 90\n",
            "Enter marks for subject 2: 80\n",
            "Enter marks for subject 3: 70\n",
            "Grade: B\n"
          ]
        }
      ]
    }
  ]
}