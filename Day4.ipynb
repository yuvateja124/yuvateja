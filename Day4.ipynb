{
  "nbformat": 4,
  "nbformat_minor": 0,
  "metadata": {
    "colab": {
      "provenance": [],
      "authorship_tag": "ABX9TyNNgVHQgL6+QutYff7cUUCz",
      "include_colab_link": true
    },
    "kernelspec": {
      "name": "python3",
      "display_name": "Python 3"
    },
    "language_info": {
      "name": "python"
    }
  },
  "cells": [
    {
      "cell_type": "markdown",
      "metadata": {
        "id": "view-in-github",
        "colab_type": "text"
      },
      "source": [
        "<a href=\"https://colab.research.google.com/github/yuvateja124/yuvateja/blob/main/Day4.ipynb\" target=\"_parent\"><img src=\"https://colab.research.google.com/assets/colab-badge.svg\" alt=\"Open In Colab\"/></a>"
      ]
    },
    {
      "cell_type": "code",
      "source": [
        "def sum_of_even_numbers(n):\n",
        "    # Initialize the sum variable\n",
        "    sum_even = 0\n",
        "\n",
        "    # Loop through all numbers from 1 to n\n",
        "    for i in range(1, n+1):\n",
        "        # Check if the number is even\n",
        "        if i % 2 == 0:\n",
        "            sum_even += i\n",
        "\n",
        "    return sum_even\n",
        "\n",
        "# Input: User provides a positive integer n\n",
        "n = int(input(\"Enter a positive integer n: \"))\n",
        "\n",
        "# Calculate and print the sum of all even numbers between 1 and n\n",
        "result = sum_of_even_numbers(n)\n",
        "print(f\"The sum of all even numbers between 1 and {n} is: {result}\")\n"
      ],
      "metadata": {
        "id": "auf6O9V8R1NG",
        "outputId": "9b469709-0a15-4f3d-bd09-a6d300fb0d7b",
        "colab": {
          "base_uri": "https://localhost:8080/"
        }
      },
      "execution_count": 16,
      "outputs": [
        {
          "output_type": "stream",
          "name": "stdout",
          "text": [
            "Enter a positive integer n: 100\n",
            "The sum of all even numbers between 1 and 100 is: 2550\n"
          ]
        }
      ]
    }
  ]
}