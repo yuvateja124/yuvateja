{
 "cells": [
  {
   "cell_type": "code",
   "execution_count": 14,
   "id": "801659ee-d8ed-4145-a5f7-97a152ecf1e3",
   "metadata": {},
   "outputs": [
    {
     "name": "stdout",
     "output_type": "stream",
     "text": [
      "Requirement already satisfied: SpeechRecognition in c:\\users\\yuvat\\anaconda3\\lib\\site-packages (3.13.0)\n",
      "Requirement already satisfied: typing-extensions in c:\\users\\yuvat\\anaconda3\\lib\\site-packages (from SpeechRecognition) (4.11.0)\n",
      "Note: you may need to restart the kernel to use updated packages.\n"
     ]
    }
   ],
   "source": [
    "pip install SpeechRecognition"
   ]
  },
  {
   "cell_type": "code",
   "execution_count": 16,
   "id": "dfff7999-b551-475b-944d-d2d47c6fd81c",
   "metadata": {},
   "outputs": [
    {
     "name": "stdout",
     "output_type": "stream",
     "text": [
      "Collecting pyaudio\n",
      "  Downloading PyAudio-0.2.14-cp312-cp312-win_amd64.whl.metadata (2.7 kB)\n",
      "Downloading PyAudio-0.2.14-cp312-cp312-win_amd64.whl (164 kB)\n",
      "Installing collected packages: pyaudio\n",
      "Successfully installed pyaudio-0.2.14\n",
      "Note: you may need to restart the kernel to use updated packages.\n"
     ]
    }
   ],
   "source": [
    "pip install pyaudio"
   ]
  },
  {
   "cell_type": "code",
   "execution_count": 18,
   "id": "f880b3fc-fc76-4238-a7ae-60d9e0ffbf0d",
   "metadata": {},
   "outputs": [
    {
     "name": "stdout",
     "output_type": "stream",
     "text": [
      "Collecting pyttsx3\n",
      "  Downloading pyttsx3-2.98-py3-none-any.whl.metadata (3.8 kB)\n",
      "Collecting comtypes (from pyttsx3)\n",
      "  Downloading comtypes-1.4.9-py3-none-any.whl.metadata (7.1 kB)\n",
      "Collecting pypiwin32 (from pyttsx3)\n",
      "  Downloading pypiwin32-223-py3-none-any.whl.metadata (236 bytes)\n",
      "Requirement already satisfied: pywin32 in c:\\users\\yuvat\\anaconda3\\lib\\site-packages (from pyttsx3) (305.1)\n",
      "Downloading pyttsx3-2.98-py3-none-any.whl (34 kB)\n",
      "Downloading comtypes-1.4.9-py3-none-any.whl (234 kB)\n",
      "Downloading pypiwin32-223-py3-none-any.whl (1.7 kB)\n",
      "Installing collected packages: pypiwin32, comtypes, pyttsx3\n",
      "Successfully installed comtypes-1.4.9 pypiwin32-223 pyttsx3-2.98\n",
      "Note: you may need to restart the kernel to use updated packages.\n"
     ]
    }
   ],
   "source": [
    "pip install pyttsx3"
   ]
  },
  {
   "cell_type": "code",
   "execution_count": null,
   "id": "cb0bb806-7cc2-4301-8366-2c8701419a2d",
   "metadata": {},
   "outputs": [
    {
     "name": "stdin",
     "output_type": "stream",
     "text": [
      "you: Hello\n",
      "you: Hello\n",
      "you: Hello\n"
     ]
    }
   ],
   "source": [
    "import pyttsx3\n",
    "\n",
    "engine=pyttsx3.init()\n",
    "\n",
    "def speak(text):\n",
    "    \"\"\" make this assistant speak\"\"\"\n",
    "    engine.say(text)\n",
    "    engine.runAndWait()\n",
    "   \n",
    "def main():\n",
    "    speak(\"hello i am your simple bot from malla  reddy university\")\n",
    "    speak(\"you can say hello, ask my name, or say goodbye\")\n",
    "   \n",
    "    while True:\n",
    "       \n",
    "        command=input(\"you:\").lower()\n",
    "       \n",
    "        if \"hello\" in command:\n",
    "            speak(\"hi there! welcom to malla reddy university\")\n",
    "        elif \"what is your name\" in command:\n",
    "            speak(\"my name is simple bot from malla reddy university\")\n",
    "        elif \"goodbye\" in command:\n",
    "            speak(\"goodbye\")\n",
    "            break\n",
    "        else:\n",
    "            speak(\"i didn't understand that. please try again\")\n",
    "           \n",
    "if __name__ == \"__main__\":\n",
    "    main()\n"
   ]
  },
  {
   "cell_type": "code",
   "execution_count": null,
   "id": "fe3036fc-1339-43e0-ac80-6350925bf9f2",
   "metadata": {},
   "outputs": [],
   "source": [
    "import pandas as pd\n",
    "df pd.reada_csv(r path and filename)"
   ]
  }
 ],
 "metadata": {
  "kernelspec": {
   "display_name": "Python [conda env:base] *",
   "language": "python",
   "name": "conda-base-py"
  },
  "language_info": {
   "codemirror_mode": {
    "name": "ipython",
    "version": 3
   },
   "file_extension": ".py",
   "mimetype": "text/x-python",
   "name": "python",
   "nbconvert_exporter": "python",
   "pygments_lexer": "ipython3",
   "version": "3.12.7"
  }
 },
 "nbformat": 4,
 "nbformat_minor": 5
}
