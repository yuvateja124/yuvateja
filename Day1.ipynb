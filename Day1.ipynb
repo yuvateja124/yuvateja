{
  "nbformat": 4,
  "nbformat_minor": 0,
  "metadata": {
    "colab": {
      "provenance": [],
      "authorship_tag": "ABX9TyMYZrp6nyhJ16cJjr1weO9N",
      "include_colab_link": true
    },
    "kernelspec": {
      "name": "python3",
      "display_name": "Python 3"
    },
    "language_info": {
      "name": "python"
    }
  },
  "cells": [
    {
      "cell_type": "markdown",
      "metadata": {
        "id": "view-in-github",
        "colab_type": "text"
      },
      "source": [
        "<a href=\"https://colab.research.google.com/github/yuvateja124/yuvateja/blob/main/Day1.ipynb\" target=\"_parent\"><img src=\"https://colab.research.google.com/assets/colab-badge.svg\" alt=\"Open In Colab\"/></a>"
      ]
    },
    {
      "cell_type": "code",
      "source": [
        "my_integer=10\n",
        "my_float=3.14\n",
        "my_string='helloworld'\n",
        "my_boolen=True\n",
        "print(\"value:\",my_integer,\"type\", type(my_integer))\n",
        "print(\"value:\",my_float,\"type:\", type(my_float))\n",
        "print(\"value:\",my_string,\"type:\", type(my_string))\n",
        "print(\"value:\",boolen, \"type:\", type(my_boolen))"
      ],
      "metadata": {
        "colab": {
          "base_uri": "https://localhost:8080/"
        },
        "id": "ZGNXlNQwOXX4",
        "outputId": "35a01382-742a-48f0-8d9e-a90abc7b9c4f"
      },
      "execution_count": 15,
      "outputs": [
        {
          "output_type": "stream",
          "name": "stdout",
          "text": [
            "value: 10 type <class 'int'>\n",
            "value: 3.14 type: <class 'float'>\n",
            "value: helloworld type: <class 'str'>\n",
            "value: True type: <class 'bool'>\n"
          ]
        }
      ]
    }
  ]
}