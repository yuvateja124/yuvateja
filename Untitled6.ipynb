{
  "nbformat": 4,
  "nbformat_minor": 0,
  "metadata": {
    "colab": {
      "provenance": [],
      "authorship_tag": "ABX9TyNbDQtGvVuNKuuJnFFUEJut",
      "include_colab_link": true
    },
    "kernelspec": {
      "name": "python3",
      "display_name": "Python 3"
    },
    "language_info": {
      "name": "python"
    }
  },
  "cells": [
    {
      "cell_type": "markdown",
      "metadata": {
        "id": "view-in-github",
        "colab_type": "text"
      },
      "source": [
        "<a href=\"https://colab.research.google.com/github/yuvateja124/yuvateja/blob/main/Untitled6.ipynb\" target=\"_parent\"><img src=\"https://colab.research.google.com/assets/colab-badge.svg\" alt=\"Open In Colab\"/></a>"
      ]
    },
    {
      "cell_type": "code",
      "source": [
        "# List example with 5 elements\n",
        "my_list = [10, 20, 30, 40, 50]\n",
        "\n",
        "# Accessing elements by index\n",
        "print(my_list[0])   # Output: 10 (first element)\n",
        "print(my_list[2])   # Output: 30 (third element)\n",
        "print(my_list[-1])  # Output: 50 (last element)\n",
        "print(my_list[1:4]) # Output: [20, 30, 40] (slice from index 1 to 3)"
      ],
      "metadata": {
        "colab": {
          "base_uri": "https://localhost:8080/"
        },
        "id": "_d-s94lwKNq9",
        "outputId": "65073894-a58e-4407-8e89-263622d06e1f"
      },
      "execution_count": 4,
      "outputs": [
        {
          "output_type": "stream",
          "name": "stdout",
          "text": [
            "10\n",
            "30\n",
            "50\n",
            "[20, 30, 40]\n"
          ]
        }
      ]
    },
    {
      "cell_type": "code",
      "source": [
        "# Tuple example with 5 elements\n",
        "my_tuple = ('apple', 'banana', 'cherry', 'date', 'elderberry')\n",
        "\n",
        "# Accessing elements by index\n",
        "print(my_tuple[0])    # Output: 'apple' (first element)\n",
        "print(my_tuple[2])    # Output: 'cherry' (third element)\n",
        "print(my_tuple[-1])   # Output: 'elderberry' (last element)\n",
        "print(my_tuple[1:4])  # Output: ('banana', 'cherry', 'date') (slice from index 1 to 3)\n"
      ],
      "metadata": {
        "colab": {
          "base_uri": "https://localhost:8080/"
        },
        "id": "rq6iXZ1jKpT-",
        "outputId": "f15cb5a5-57e3-42d1-9023-40b6eba64f53"
      },
      "execution_count": 5,
      "outputs": [
        {
          "output_type": "stream",
          "name": "stdout",
          "text": [
            "apple\n",
            "cherry\n",
            "elderberry\n",
            "('banana', 'cherry', 'date')\n"
          ]
        }
      ]
    },
    {
      "cell_type": "code",
      "source": [
        "# Dictionary example with 5 key-value pairs\n",
        "my_dict = {\n",
        "    'name': 'Alice',\n",
        "    'age': 30,\n",
        "    'city': 'New York',\n",
        "    'profession': 'Engineer',\n",
        "    'hobby': 'Reading'\n",
        "}\n",
        "\n",
        "# Accessing elements by key\n",
        "print(my_dict['name'])       # Output: 'Alice' (value associated with 'name')\n",
        "print(my_dict['age'])        # Output: 30 (value associated with 'age')\n",
        "print(my_dict.get('city'))   # Output: 'New York' (value associated with 'city')\n",
        "print(my_dict.get('hobby'))  # Output: 'Reading' (value associated with 'hobby')\n"
      ],
      "metadata": {
        "colab": {
          "base_uri": "https://localhost:8080/"
        },
        "id": "TqELSNcYKx-j",
        "outputId": "172d322b-ea37-4308-f8f5-8adf4b5fe687"
      },
      "execution_count": 6,
      "outputs": [
        {
          "output_type": "stream",
          "name": "stdout",
          "text": [
            "Alice\n",
            "30\n",
            "New York\n",
            "Reading\n"
          ]
        }
      ]
    }
  ]
}